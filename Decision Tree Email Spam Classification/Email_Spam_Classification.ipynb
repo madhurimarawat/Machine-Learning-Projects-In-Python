{
  "nbformat": 4,
  "nbformat_minor": 0,
  "metadata": {
    "colab": {
      "provenance": []
    },
    "kernelspec": {
      "name": "python3",
      "display_name": "Python 3"
    },
    "language_info": {
      "name": "python"
    }
  },
  "cells": [
    {
      "cell_type": "markdown",
      "source": [
        "## Generating Ml Model for Spam Classification of emails.\n",
        "\n",
        "### Dataset is taken from: https://www.kaggle.com/datasets/balaka18/email-spam-classification-dataset-csv\n",
        "\n",
        "### Email Spam Classification Dataset CSV\n",
        "CSV file containing spam/not spam information about 5172 emails."
      ],
      "metadata": {
        "id": "i6ARK68drVRl"
      }
    },
    {
      "cell_type": "markdown",
      "source": [
        "## Importing Required Libraries"
      ],
      "metadata": {
        "id": "VOwhiq9_rcHT"
      }
    },
    {
      "cell_type": "code",
      "execution_count": null,
      "metadata": {
        "id": "kAKtlyjLrM5X"
      },
      "outputs": [],
      "source": [
        "import pandas as pd\n",
        "import numpy as np\n",
        "import seaborn as sns\n",
        "import matplotlib.pyplot as plt"
      ]
    },
    {
      "cell_type": "markdown",
      "source": [
        "## Reading Csv file\n",
        "\n",
        "## This dataset contains the count of number of words in email and target category according to that."
      ],
      "metadata": {
        "id": "PMvqPjshr1CF"
      }
    },
    {
      "cell_type": "code",
      "source": [
        "df = pd.read_csv(\"/content/emails.csv\")\n",
        "\n",
        "# Printing First 7 rows of dataset\n",
        "print(\"Dataset is:\\n\")\n",
        "print(df.head(n = 7))"
      ],
      "metadata": {
        "colab": {
          "base_uri": "https://localhost:8080/"
        },
        "id": "MIa-uV7Urm6l",
        "outputId": "a7b78867-7d4d-4773-ca50-c4c93891304c"
      },
      "execution_count": null,
      "outputs": [
        {
          "output_type": "stream",
          "name": "stdout",
          "text": [
            "Dataset is:\n",
            "\n",
            "  Email No.  the  to  ect  and  for  of    a  you  hou  ...  connevey  jay  \\\n",
            "0   Email 1    0   0    1    0    0   0    2    0    0  ...         0    0   \n",
            "1   Email 2    8  13   24    6    6   2  102    1   27  ...         0    0   \n",
            "2   Email 3    0   0    1    0    0   0    8    0    0  ...         0    0   \n",
            "3   Email 4    0   5   22    0    5   1   51    2   10  ...         0    0   \n",
            "4   Email 5    7   6   17    1    5   2   57    0    9  ...         0    0   \n",
            "5   Email 6    4   5    1    4    2   3   45    1    0  ...         0    0   \n",
            "6   Email 7    5   3    1    3    2   1   37    0    0  ...         0    0   \n",
            "\n",
            "   valued  lay  infrastructure  military  allowing  ff  dry  Prediction  \n",
            "0       0    0               0         0         0   0    0           0  \n",
            "1       0    0               0         0         0   1    0           0  \n",
            "2       0    0               0         0         0   0    0           0  \n",
            "3       0    0               0         0         0   0    0           0  \n",
            "4       0    0               0         0         0   1    0           0  \n",
            "5       0    0               0         0         0   0    0           1  \n",
            "6       0    0               0         0         0   0    0           0  \n",
            "\n",
            "[7 rows x 3002 columns]\n"
          ]
        }
      ]
    },
    {
      "cell_type": "markdown",
      "source": [
        "## Seeing the Columns of Dataset"
      ],
      "metadata": {
        "id": "yGvwpPalsp64"
      }
    },
    {
      "cell_type": "code",
      "source": [
        "print(\"Columns of Dataset are:\\n\", df.columns)\n",
        "\n",
        "print(\"\\nShape of Dataset is:\", df.shape)"
      ],
      "metadata": {
        "colab": {
          "base_uri": "https://localhost:8080/"
        },
        "id": "mrgQib8WsE94",
        "outputId": "49a028d6-3bb7-4717-a574-9d9d49933bc7"
      },
      "execution_count": null,
      "outputs": [
        {
          "output_type": "stream",
          "name": "stdout",
          "text": [
            "Columns of Dataset are:\n",
            " Index(['Email No.', 'the', 'to', 'ect', 'and', 'for', 'of', 'a', 'you', 'hou',\n",
            "       ...\n",
            "       'connevey', 'jay', 'valued', 'lay', 'infrastructure', 'military',\n",
            "       'allowing', 'ff', 'dry', 'Prediction'],\n",
            "      dtype='object', length=3002)\n",
            "\n",
            "Shape of Dataset is: (5172, 3002)\n"
          ]
        }
      ]
    },
    {
      "cell_type": "markdown",
      "source": [
        "## Checking for Null Values in Dataset"
      ],
      "metadata": {
        "id": "aqgF07eas73O"
      }
    },
    {
      "cell_type": "code",
      "source": [
        "print(\"Count of Null Values in Dataset is:\\n\")\n",
        "df.isnull().sum()"
      ],
      "metadata": {
        "colab": {
          "base_uri": "https://localhost:8080/"
        },
        "id": "ic6JDGJQsxW7",
        "outputId": "98275cb8-b17f-4b62-de20-b39d6d5349c9"
      },
      "execution_count": null,
      "outputs": [
        {
          "output_type": "stream",
          "name": "stdout",
          "text": [
            "Count of Null Values in Dataset is:\n",
            "\n"
          ]
        },
        {
          "output_type": "execute_result",
          "data": {
            "text/plain": [
              "Email No.     0\n",
              "the           0\n",
              "to            0\n",
              "ect           0\n",
              "and           0\n",
              "             ..\n",
              "military      0\n",
              "allowing      0\n",
              "ff            0\n",
              "dry           0\n",
              "Prediction    0\n",
              "Length: 3002, dtype: int64"
            ]
          },
          "metadata": {},
          "execution_count": 148
        }
      ]
    },
    {
      "cell_type": "markdown",
      "source": [
        "## Since there are very less missing values we can drop them"
      ],
      "metadata": {
        "id": "D7oGALgmupIU"
      }
    },
    {
      "cell_type": "code",
      "source": [
        "# Dropping Missing Values\n",
        "df.dropna(inplace = True)"
      ],
      "metadata": {
        "id": "QaniVqVuugLs"
      },
      "execution_count": null,
      "outputs": []
    },
    {
      "cell_type": "markdown",
      "source": [
        "## Seeing Descriptive Statics of Dataset"
      ],
      "metadata": {
        "id": "9DRRls7Su_Ux"
      }
    },
    {
      "cell_type": "code",
      "source": [
        "print(\"Descriptive Statics of Dataset are:\\n\")\n",
        "df.describe(include = 'all')"
      ],
      "metadata": {
        "colab": {
          "base_uri": "https://localhost:8080/",
          "height": 513
        },
        "id": "CqMRWrGnu1VB",
        "outputId": "1ad084a4-28a6-4bdb-e6c4-6217f4ef3350"
      },
      "execution_count": null,
      "outputs": [
        {
          "output_type": "stream",
          "name": "stdout",
          "text": [
            "Descriptive Statics of Dataset are:\n",
            "\n"
          ]
        },
        {
          "output_type": "execute_result",
          "data": {
            "text/plain": [
              "       Email No.          the           to          ect          and  \\\n",
              "count       5172  5172.000000  5172.000000  5172.000000  5172.000000   \n",
              "unique      5172          NaN          NaN          NaN          NaN   \n",
              "top      Email 1          NaN          NaN          NaN          NaN   \n",
              "freq           1          NaN          NaN          NaN          NaN   \n",
              "mean         NaN     6.640565     6.188128     5.143852     3.075599   \n",
              "std          NaN    11.745009     9.534576    14.101142     6.045970   \n",
              "min          NaN     0.000000     0.000000     1.000000     0.000000   \n",
              "25%          NaN     0.000000     1.000000     1.000000     0.000000   \n",
              "50%          NaN     3.000000     3.000000     1.000000     1.000000   \n",
              "75%          NaN     8.000000     7.000000     4.000000     3.000000   \n",
              "max          NaN   210.000000   132.000000   344.000000    89.000000   \n",
              "\n",
              "                for           of            a          you          hou  ...  \\\n",
              "count   5172.000000  5172.000000  5172.000000  5172.000000  5172.000000  ...   \n",
              "unique          NaN          NaN          NaN          NaN          NaN  ...   \n",
              "top             NaN          NaN          NaN          NaN          NaN  ...   \n",
              "freq            NaN          NaN          NaN          NaN          NaN  ...   \n",
              "mean       3.124710     2.627030    55.517401     2.466551     2.024362  ...   \n",
              "std        4.680522     6.229845    87.574172     4.314444     6.967878  ...   \n",
              "min        0.000000     0.000000     0.000000     0.000000     0.000000  ...   \n",
              "25%        1.000000     0.000000    12.000000     0.000000     0.000000  ...   \n",
              "50%        2.000000     1.000000    28.000000     1.000000     0.000000  ...   \n",
              "75%        4.000000     2.000000    62.250000     3.000000     1.000000  ...   \n",
              "max       47.000000    77.000000  1898.000000    70.000000   167.000000  ...   \n",
              "\n",
              "           connevey          jay       valued          lay  infrastructure  \\\n",
              "count   5172.000000  5172.000000  5172.000000  5172.000000     5172.000000   \n",
              "unique          NaN          NaN          NaN          NaN             NaN   \n",
              "top             NaN          NaN          NaN          NaN             NaN   \n",
              "freq            NaN          NaN          NaN          NaN             NaN   \n",
              "mean       0.005027     0.012568     0.010634     0.098028        0.004254   \n",
              "std        0.105788     0.199682     0.116693     0.569532        0.096252   \n",
              "min        0.000000     0.000000     0.000000     0.000000        0.000000   \n",
              "25%        0.000000     0.000000     0.000000     0.000000        0.000000   \n",
              "50%        0.000000     0.000000     0.000000     0.000000        0.000000   \n",
              "75%        0.000000     0.000000     0.000000     0.000000        0.000000   \n",
              "max        4.000000     7.000000     2.000000    12.000000        3.000000   \n",
              "\n",
              "           military     allowing           ff          dry   Prediction  \n",
              "count   5172.000000  5172.000000  5172.000000  5172.000000  5172.000000  \n",
              "unique          NaN          NaN          NaN          NaN          NaN  \n",
              "top             NaN          NaN          NaN          NaN          NaN  \n",
              "freq            NaN          NaN          NaN          NaN          NaN  \n",
              "mean       0.006574     0.004060     0.914733     0.006961     0.290023  \n",
              "std        0.138908     0.072145     2.780203     0.098086     0.453817  \n",
              "min        0.000000     0.000000     0.000000     0.000000     0.000000  \n",
              "25%        0.000000     0.000000     0.000000     0.000000     0.000000  \n",
              "50%        0.000000     0.000000     0.000000     0.000000     0.000000  \n",
              "75%        0.000000     0.000000     1.000000     0.000000     1.000000  \n",
              "max        4.000000     3.000000   114.000000     4.000000     1.000000  \n",
              "\n",
              "[11 rows x 3002 columns]"
            ],
            "text/html": [
              "\n",
              "  <div id=\"df-6f0d107f-dfa1-4aeb-acc4-0aed6435bb26\" class=\"colab-df-container\">\n",
              "    <div>\n",
              "<style scoped>\n",
              "    .dataframe tbody tr th:only-of-type {\n",
              "        vertical-align: middle;\n",
              "    }\n",
              "\n",
              "    .dataframe tbody tr th {\n",
              "        vertical-align: top;\n",
              "    }\n",
              "\n",
              "    .dataframe thead th {\n",
              "        text-align: right;\n",
              "    }\n",
              "</style>\n",
              "<table border=\"1\" class=\"dataframe\">\n",
              "  <thead>\n",
              "    <tr style=\"text-align: right;\">\n",
              "      <th></th>\n",
              "      <th>Email No.</th>\n",
              "      <th>the</th>\n",
              "      <th>to</th>\n",
              "      <th>ect</th>\n",
              "      <th>and</th>\n",
              "      <th>for</th>\n",
              "      <th>of</th>\n",
              "      <th>a</th>\n",
              "      <th>you</th>\n",
              "      <th>hou</th>\n",
              "      <th>...</th>\n",
              "      <th>connevey</th>\n",
              "      <th>jay</th>\n",
              "      <th>valued</th>\n",
              "      <th>lay</th>\n",
              "      <th>infrastructure</th>\n",
              "      <th>military</th>\n",
              "      <th>allowing</th>\n",
              "      <th>ff</th>\n",
              "      <th>dry</th>\n",
              "      <th>Prediction</th>\n",
              "    </tr>\n",
              "  </thead>\n",
              "  <tbody>\n",
              "    <tr>\n",
              "      <th>count</th>\n",
              "      <td>5172</td>\n",
              "      <td>5172.000000</td>\n",
              "      <td>5172.000000</td>\n",
              "      <td>5172.000000</td>\n",
              "      <td>5172.000000</td>\n",
              "      <td>5172.000000</td>\n",
              "      <td>5172.000000</td>\n",
              "      <td>5172.000000</td>\n",
              "      <td>5172.000000</td>\n",
              "      <td>5172.000000</td>\n",
              "      <td>...</td>\n",
              "      <td>5172.000000</td>\n",
              "      <td>5172.000000</td>\n",
              "      <td>5172.000000</td>\n",
              "      <td>5172.000000</td>\n",
              "      <td>5172.000000</td>\n",
              "      <td>5172.000000</td>\n",
              "      <td>5172.000000</td>\n",
              "      <td>5172.000000</td>\n",
              "      <td>5172.000000</td>\n",
              "      <td>5172.000000</td>\n",
              "    </tr>\n",
              "    <tr>\n",
              "      <th>unique</th>\n",
              "      <td>5172</td>\n",
              "      <td>NaN</td>\n",
              "      <td>NaN</td>\n",
              "      <td>NaN</td>\n",
              "      <td>NaN</td>\n",
              "      <td>NaN</td>\n",
              "      <td>NaN</td>\n",
              "      <td>NaN</td>\n",
              "      <td>NaN</td>\n",
              "      <td>NaN</td>\n",
              "      <td>...</td>\n",
              "      <td>NaN</td>\n",
              "      <td>NaN</td>\n",
              "      <td>NaN</td>\n",
              "      <td>NaN</td>\n",
              "      <td>NaN</td>\n",
              "      <td>NaN</td>\n",
              "      <td>NaN</td>\n",
              "      <td>NaN</td>\n",
              "      <td>NaN</td>\n",
              "      <td>NaN</td>\n",
              "    </tr>\n",
              "    <tr>\n",
              "      <th>top</th>\n",
              "      <td>Email 1</td>\n",
              "      <td>NaN</td>\n",
              "      <td>NaN</td>\n",
              "      <td>NaN</td>\n",
              "      <td>NaN</td>\n",
              "      <td>NaN</td>\n",
              "      <td>NaN</td>\n",
              "      <td>NaN</td>\n",
              "      <td>NaN</td>\n",
              "      <td>NaN</td>\n",
              "      <td>...</td>\n",
              "      <td>NaN</td>\n",
              "      <td>NaN</td>\n",
              "      <td>NaN</td>\n",
              "      <td>NaN</td>\n",
              "      <td>NaN</td>\n",
              "      <td>NaN</td>\n",
              "      <td>NaN</td>\n",
              "      <td>NaN</td>\n",
              "      <td>NaN</td>\n",
              "      <td>NaN</td>\n",
              "    </tr>\n",
              "    <tr>\n",
              "      <th>freq</th>\n",
              "      <td>1</td>\n",
              "      <td>NaN</td>\n",
              "      <td>NaN</td>\n",
              "      <td>NaN</td>\n",
              "      <td>NaN</td>\n",
              "      <td>NaN</td>\n",
              "      <td>NaN</td>\n",
              "      <td>NaN</td>\n",
              "      <td>NaN</td>\n",
              "      <td>NaN</td>\n",
              "      <td>...</td>\n",
              "      <td>NaN</td>\n",
              "      <td>NaN</td>\n",
              "      <td>NaN</td>\n",
              "      <td>NaN</td>\n",
              "      <td>NaN</td>\n",
              "      <td>NaN</td>\n",
              "      <td>NaN</td>\n",
              "      <td>NaN</td>\n",
              "      <td>NaN</td>\n",
              "      <td>NaN</td>\n",
              "    </tr>\n",
              "    <tr>\n",
              "      <th>mean</th>\n",
              "      <td>NaN</td>\n",
              "      <td>6.640565</td>\n",
              "      <td>6.188128</td>\n",
              "      <td>5.143852</td>\n",
              "      <td>3.075599</td>\n",
              "      <td>3.124710</td>\n",
              "      <td>2.627030</td>\n",
              "      <td>55.517401</td>\n",
              "      <td>2.466551</td>\n",
              "      <td>2.024362</td>\n",
              "      <td>...</td>\n",
              "      <td>0.005027</td>\n",
              "      <td>0.012568</td>\n",
              "      <td>0.010634</td>\n",
              "      <td>0.098028</td>\n",
              "      <td>0.004254</td>\n",
              "      <td>0.006574</td>\n",
              "      <td>0.004060</td>\n",
              "      <td>0.914733</td>\n",
              "      <td>0.006961</td>\n",
              "      <td>0.290023</td>\n",
              "    </tr>\n",
              "    <tr>\n",
              "      <th>std</th>\n",
              "      <td>NaN</td>\n",
              "      <td>11.745009</td>\n",
              "      <td>9.534576</td>\n",
              "      <td>14.101142</td>\n",
              "      <td>6.045970</td>\n",
              "      <td>4.680522</td>\n",
              "      <td>6.229845</td>\n",
              "      <td>87.574172</td>\n",
              "      <td>4.314444</td>\n",
              "      <td>6.967878</td>\n",
              "      <td>...</td>\n",
              "      <td>0.105788</td>\n",
              "      <td>0.199682</td>\n",
              "      <td>0.116693</td>\n",
              "      <td>0.569532</td>\n",
              "      <td>0.096252</td>\n",
              "      <td>0.138908</td>\n",
              "      <td>0.072145</td>\n",
              "      <td>2.780203</td>\n",
              "      <td>0.098086</td>\n",
              "      <td>0.453817</td>\n",
              "    </tr>\n",
              "    <tr>\n",
              "      <th>min</th>\n",
              "      <td>NaN</td>\n",
              "      <td>0.000000</td>\n",
              "      <td>0.000000</td>\n",
              "      <td>1.000000</td>\n",
              "      <td>0.000000</td>\n",
              "      <td>0.000000</td>\n",
              "      <td>0.000000</td>\n",
              "      <td>0.000000</td>\n",
              "      <td>0.000000</td>\n",
              "      <td>0.000000</td>\n",
              "      <td>...</td>\n",
              "      <td>0.000000</td>\n",
              "      <td>0.000000</td>\n",
              "      <td>0.000000</td>\n",
              "      <td>0.000000</td>\n",
              "      <td>0.000000</td>\n",
              "      <td>0.000000</td>\n",
              "      <td>0.000000</td>\n",
              "      <td>0.000000</td>\n",
              "      <td>0.000000</td>\n",
              "      <td>0.000000</td>\n",
              "    </tr>\n",
              "    <tr>\n",
              "      <th>25%</th>\n",
              "      <td>NaN</td>\n",
              "      <td>0.000000</td>\n",
              "      <td>1.000000</td>\n",
              "      <td>1.000000</td>\n",
              "      <td>0.000000</td>\n",
              "      <td>1.000000</td>\n",
              "      <td>0.000000</td>\n",
              "      <td>12.000000</td>\n",
              "      <td>0.000000</td>\n",
              "      <td>0.000000</td>\n",
              "      <td>...</td>\n",
              "      <td>0.000000</td>\n",
              "      <td>0.000000</td>\n",
              "      <td>0.000000</td>\n",
              "      <td>0.000000</td>\n",
              "      <td>0.000000</td>\n",
              "      <td>0.000000</td>\n",
              "      <td>0.000000</td>\n",
              "      <td>0.000000</td>\n",
              "      <td>0.000000</td>\n",
              "      <td>0.000000</td>\n",
              "    </tr>\n",
              "    <tr>\n",
              "      <th>50%</th>\n",
              "      <td>NaN</td>\n",
              "      <td>3.000000</td>\n",
              "      <td>3.000000</td>\n",
              "      <td>1.000000</td>\n",
              "      <td>1.000000</td>\n",
              "      <td>2.000000</td>\n",
              "      <td>1.000000</td>\n",
              "      <td>28.000000</td>\n",
              "      <td>1.000000</td>\n",
              "      <td>0.000000</td>\n",
              "      <td>...</td>\n",
              "      <td>0.000000</td>\n",
              "      <td>0.000000</td>\n",
              "      <td>0.000000</td>\n",
              "      <td>0.000000</td>\n",
              "      <td>0.000000</td>\n",
              "      <td>0.000000</td>\n",
              "      <td>0.000000</td>\n",
              "      <td>0.000000</td>\n",
              "      <td>0.000000</td>\n",
              "      <td>0.000000</td>\n",
              "    </tr>\n",
              "    <tr>\n",
              "      <th>75%</th>\n",
              "      <td>NaN</td>\n",
              "      <td>8.000000</td>\n",
              "      <td>7.000000</td>\n",
              "      <td>4.000000</td>\n",
              "      <td>3.000000</td>\n",
              "      <td>4.000000</td>\n",
              "      <td>2.000000</td>\n",
              "      <td>62.250000</td>\n",
              "      <td>3.000000</td>\n",
              "      <td>1.000000</td>\n",
              "      <td>...</td>\n",
              "      <td>0.000000</td>\n",
              "      <td>0.000000</td>\n",
              "      <td>0.000000</td>\n",
              "      <td>0.000000</td>\n",
              "      <td>0.000000</td>\n",
              "      <td>0.000000</td>\n",
              "      <td>0.000000</td>\n",
              "      <td>1.000000</td>\n",
              "      <td>0.000000</td>\n",
              "      <td>1.000000</td>\n",
              "    </tr>\n",
              "    <tr>\n",
              "      <th>max</th>\n",
              "      <td>NaN</td>\n",
              "      <td>210.000000</td>\n",
              "      <td>132.000000</td>\n",
              "      <td>344.000000</td>\n",
              "      <td>89.000000</td>\n",
              "      <td>47.000000</td>\n",
              "      <td>77.000000</td>\n",
              "      <td>1898.000000</td>\n",
              "      <td>70.000000</td>\n",
              "      <td>167.000000</td>\n",
              "      <td>...</td>\n",
              "      <td>4.000000</td>\n",
              "      <td>7.000000</td>\n",
              "      <td>2.000000</td>\n",
              "      <td>12.000000</td>\n",
              "      <td>3.000000</td>\n",
              "      <td>4.000000</td>\n",
              "      <td>3.000000</td>\n",
              "      <td>114.000000</td>\n",
              "      <td>4.000000</td>\n",
              "      <td>1.000000</td>\n",
              "    </tr>\n",
              "  </tbody>\n",
              "</table>\n",
              "<p>11 rows × 3002 columns</p>\n",
              "</div>\n",
              "    <div class=\"colab-df-buttons\">\n",
              "\n",
              "  <div class=\"colab-df-container\">\n",
              "    <button class=\"colab-df-convert\" onclick=\"convertToInteractive('df-6f0d107f-dfa1-4aeb-acc4-0aed6435bb26')\"\n",
              "            title=\"Convert this dataframe to an interactive table.\"\n",
              "            style=\"display:none;\">\n",
              "\n",
              "  <svg xmlns=\"http://www.w3.org/2000/svg\" height=\"24px\" viewBox=\"0 -960 960 960\">\n",
              "    <path d=\"M120-120v-720h720v720H120Zm60-500h600v-160H180v160Zm220 220h160v-160H400v160Zm0 220h160v-160H400v160ZM180-400h160v-160H180v160Zm440 0h160v-160H620v160ZM180-180h160v-160H180v160Zm440 0h160v-160H620v160Z\"/>\n",
              "  </svg>\n",
              "    </button>\n",
              "\n",
              "  <style>\n",
              "    .colab-df-container {\n",
              "      display:flex;\n",
              "      gap: 12px;\n",
              "    }\n",
              "\n",
              "    .colab-df-convert {\n",
              "      background-color: #E8F0FE;\n",
              "      border: none;\n",
              "      border-radius: 50%;\n",
              "      cursor: pointer;\n",
              "      display: none;\n",
              "      fill: #1967D2;\n",
              "      height: 32px;\n",
              "      padding: 0 0 0 0;\n",
              "      width: 32px;\n",
              "    }\n",
              "\n",
              "    .colab-df-convert:hover {\n",
              "      background-color: #E2EBFA;\n",
              "      box-shadow: 0px 1px 2px rgba(60, 64, 67, 0.3), 0px 1px 3px 1px rgba(60, 64, 67, 0.15);\n",
              "      fill: #174EA6;\n",
              "    }\n",
              "\n",
              "    .colab-df-buttons div {\n",
              "      margin-bottom: 4px;\n",
              "    }\n",
              "\n",
              "    [theme=dark] .colab-df-convert {\n",
              "      background-color: #3B4455;\n",
              "      fill: #D2E3FC;\n",
              "    }\n",
              "\n",
              "    [theme=dark] .colab-df-convert:hover {\n",
              "      background-color: #434B5C;\n",
              "      box-shadow: 0px 1px 3px 1px rgba(0, 0, 0, 0.15);\n",
              "      filter: drop-shadow(0px 1px 2px rgba(0, 0, 0, 0.3));\n",
              "      fill: #FFFFFF;\n",
              "    }\n",
              "  </style>\n",
              "\n",
              "    <script>\n",
              "      const buttonEl =\n",
              "        document.querySelector('#df-6f0d107f-dfa1-4aeb-acc4-0aed6435bb26 button.colab-df-convert');\n",
              "      buttonEl.style.display =\n",
              "        google.colab.kernel.accessAllowed ? 'block' : 'none';\n",
              "\n",
              "      async function convertToInteractive(key) {\n",
              "        const element = document.querySelector('#df-6f0d107f-dfa1-4aeb-acc4-0aed6435bb26');\n",
              "        const dataTable =\n",
              "          await google.colab.kernel.invokeFunction('convertToInteractive',\n",
              "                                                    [key], {});\n",
              "        if (!dataTable) return;\n",
              "\n",
              "        const docLinkHtml = 'Like what you see? Visit the ' +\n",
              "          '<a target=\"_blank\" href=https://colab.research.google.com/notebooks/data_table.ipynb>data table notebook</a>'\n",
              "          + ' to learn more about interactive tables.';\n",
              "        element.innerHTML = '';\n",
              "        dataTable['output_type'] = 'display_data';\n",
              "        await google.colab.output.renderOutput(dataTable, element);\n",
              "        const docLink = document.createElement('div');\n",
              "        docLink.innerHTML = docLinkHtml;\n",
              "        element.appendChild(docLink);\n",
              "      }\n",
              "    </script>\n",
              "  </div>\n",
              "\n",
              "\n",
              "<div id=\"df-a4fc0cad-5bc7-4485-95a4-2f9521303cfd\">\n",
              "  <button class=\"colab-df-quickchart\" onclick=\"quickchart('df-a4fc0cad-5bc7-4485-95a4-2f9521303cfd')\"\n",
              "            title=\"Suggest charts\"\n",
              "            style=\"display:none;\">\n",
              "\n",
              "<svg xmlns=\"http://www.w3.org/2000/svg\" height=\"24px\"viewBox=\"0 0 24 24\"\n",
              "     width=\"24px\">\n",
              "    <g>\n",
              "        <path d=\"M19 3H5c-1.1 0-2 .9-2 2v14c0 1.1.9 2 2 2h14c1.1 0 2-.9 2-2V5c0-1.1-.9-2-2-2zM9 17H7v-7h2v7zm4 0h-2V7h2v10zm4 0h-2v-4h2v4z\"/>\n",
              "    </g>\n",
              "</svg>\n",
              "  </button>\n",
              "\n",
              "<style>\n",
              "  .colab-df-quickchart {\n",
              "      --bg-color: #E8F0FE;\n",
              "      --fill-color: #1967D2;\n",
              "      --hover-bg-color: #E2EBFA;\n",
              "      --hover-fill-color: #174EA6;\n",
              "      --disabled-fill-color: #AAA;\n",
              "      --disabled-bg-color: #DDD;\n",
              "  }\n",
              "\n",
              "  [theme=dark] .colab-df-quickchart {\n",
              "      --bg-color: #3B4455;\n",
              "      --fill-color: #D2E3FC;\n",
              "      --hover-bg-color: #434B5C;\n",
              "      --hover-fill-color: #FFFFFF;\n",
              "      --disabled-bg-color: #3B4455;\n",
              "      --disabled-fill-color: #666;\n",
              "  }\n",
              "\n",
              "  .colab-df-quickchart {\n",
              "    background-color: var(--bg-color);\n",
              "    border: none;\n",
              "    border-radius: 50%;\n",
              "    cursor: pointer;\n",
              "    display: none;\n",
              "    fill: var(--fill-color);\n",
              "    height: 32px;\n",
              "    padding: 0;\n",
              "    width: 32px;\n",
              "  }\n",
              "\n",
              "  .colab-df-quickchart:hover {\n",
              "    background-color: var(--hover-bg-color);\n",
              "    box-shadow: 0 1px 2px rgba(60, 64, 67, 0.3), 0 1px 3px 1px rgba(60, 64, 67, 0.15);\n",
              "    fill: var(--button-hover-fill-color);\n",
              "  }\n",
              "\n",
              "  .colab-df-quickchart-complete:disabled,\n",
              "  .colab-df-quickchart-complete:disabled:hover {\n",
              "    background-color: var(--disabled-bg-color);\n",
              "    fill: var(--disabled-fill-color);\n",
              "    box-shadow: none;\n",
              "  }\n",
              "\n",
              "  .colab-df-spinner {\n",
              "    border: 2px solid var(--fill-color);\n",
              "    border-color: transparent;\n",
              "    border-bottom-color: var(--fill-color);\n",
              "    animation:\n",
              "      spin 1s steps(1) infinite;\n",
              "  }\n",
              "\n",
              "  @keyframes spin {\n",
              "    0% {\n",
              "      border-color: transparent;\n",
              "      border-bottom-color: var(--fill-color);\n",
              "      border-left-color: var(--fill-color);\n",
              "    }\n",
              "    20% {\n",
              "      border-color: transparent;\n",
              "      border-left-color: var(--fill-color);\n",
              "      border-top-color: var(--fill-color);\n",
              "    }\n",
              "    30% {\n",
              "      border-color: transparent;\n",
              "      border-left-color: var(--fill-color);\n",
              "      border-top-color: var(--fill-color);\n",
              "      border-right-color: var(--fill-color);\n",
              "    }\n",
              "    40% {\n",
              "      border-color: transparent;\n",
              "      border-right-color: var(--fill-color);\n",
              "      border-top-color: var(--fill-color);\n",
              "    }\n",
              "    60% {\n",
              "      border-color: transparent;\n",
              "      border-right-color: var(--fill-color);\n",
              "    }\n",
              "    80% {\n",
              "      border-color: transparent;\n",
              "      border-right-color: var(--fill-color);\n",
              "      border-bottom-color: var(--fill-color);\n",
              "    }\n",
              "    90% {\n",
              "      border-color: transparent;\n",
              "      border-bottom-color: var(--fill-color);\n",
              "    }\n",
              "  }\n",
              "</style>\n",
              "\n",
              "  <script>\n",
              "    async function quickchart(key) {\n",
              "      const quickchartButtonEl =\n",
              "        document.querySelector('#' + key + ' button');\n",
              "      quickchartButtonEl.disabled = true;  // To prevent multiple clicks.\n",
              "      quickchartButtonEl.classList.add('colab-df-spinner');\n",
              "      try {\n",
              "        const charts = await google.colab.kernel.invokeFunction(\n",
              "            'suggestCharts', [key], {});\n",
              "      } catch (error) {\n",
              "        console.error('Error during call to suggestCharts:', error);\n",
              "      }\n",
              "      quickchartButtonEl.classList.remove('colab-df-spinner');\n",
              "      quickchartButtonEl.classList.add('colab-df-quickchart-complete');\n",
              "    }\n",
              "    (() => {\n",
              "      let quickchartButtonEl =\n",
              "        document.querySelector('#df-a4fc0cad-5bc7-4485-95a4-2f9521303cfd button');\n",
              "      quickchartButtonEl.style.display =\n",
              "        google.colab.kernel.accessAllowed ? 'block' : 'none';\n",
              "    })();\n",
              "  </script>\n",
              "</div>\n",
              "    </div>\n",
              "  </div>\n"
            ]
          },
          "metadata": {},
          "execution_count": 150
        }
      ]
    },
    {
      "cell_type": "markdown",
      "source": [
        "## Seeing the Class label"
      ],
      "metadata": {
        "id": "1aiVY6u1wGLs"
      }
    },
    {
      "cell_type": "code",
      "source": [
        "print(\"Unique Class Label in Dataset is:\\n\")\n",
        "print(df['Prediction'].value_counts())"
      ],
      "metadata": {
        "colab": {
          "base_uri": "https://localhost:8080/"
        },
        "id": "RN_sR4mGwJK7",
        "outputId": "f3c5bbf6-ffda-4112-f6b6-f02d439ba718"
      },
      "execution_count": null,
      "outputs": [
        {
          "output_type": "stream",
          "name": "stdout",
          "text": [
            "Unique Class Label in Dataset is:\n",
            "\n",
            "0    3672\n",
            "1    1500\n",
            "Name: Prediction, dtype: int64\n"
          ]
        }
      ]
    },
    {
      "cell_type": "markdown",
      "source": [
        "## We can see the dataset is imbalanced so first we need to balance it else it will lead to overfitting."
      ],
      "metadata": {
        "id": "q84w5qv2xMhR"
      }
    },
    {
      "cell_type": "code",
      "source": [
        "# Extracting Not Spam Mail\n",
        "Not_Spam = df[df['Prediction'] == 0]\n",
        "\n",
        "# Since the count of Not Spam mail is more we will select the same number as that of spam mails\n",
        "Not_Spam = Not_Spam.sample(n = 135)\n",
        "\n",
        "# Extracting Spam Mail\n",
        "Spam = df[df['Prediction'] == 1]\n",
        "\n",
        "# Concatenating and Creating a New Dataset with the Same number of Spam and Not Spam Mails\n",
        "df = pd.concat([Not_Spam, Spam], axis = 0)\n",
        "\n",
        "# After Balancing Count of Class labels in dataset\n",
        "print(\"After Balancing Count of Class labels in dataset is:\\n\")\n",
        "print(df['Prediction'].value_counts())"
      ],
      "metadata": {
        "colab": {
          "base_uri": "https://localhost:8080/"
        },
        "id": "ElylitxGxVl6",
        "outputId": "7551feee-a286-4672-dc2c-63a4a1e66a83"
      },
      "execution_count": null,
      "outputs": [
        {
          "output_type": "stream",
          "name": "stdout",
          "text": [
            "After Balancing Count of Class labels in dataset is:\n",
            "\n",
            "1    1500\n",
            "0     135\n",
            "Name: Prediction, dtype: int64\n"
          ]
        }
      ]
    },
    {
      "cell_type": "markdown",
      "source": [
        "## Seeing the Data type in the dataset"
      ],
      "metadata": {
        "id": "gppVoVl54Dm7"
      }
    },
    {
      "cell_type": "code",
      "source": [
        "# Total Count of Datatypes\n",
        "print(\"Datatype of Dataset is:\")\n",
        "df.info()\n",
        "\n",
        "# According to Columns\n",
        "data_types = df.dtypes\n",
        "\n",
        "print(\"\\nDatatypes of Columns is:\\n\")\n",
        "print(data_types)"
      ],
      "metadata": {
        "colab": {
          "base_uri": "https://localhost:8080/"
        },
        "id": "5f6vOEBx4HBJ",
        "outputId": "7f84e236-5217-4919-819e-7c82fe0c6a8d"
      },
      "execution_count": null,
      "outputs": [
        {
          "output_type": "stream",
          "name": "stdout",
          "text": [
            "Datatype of Dataset is:\n",
            "<class 'pandas.core.frame.DataFrame'>\n",
            "Int64Index: 1635 entries, 1104 to 5170\n",
            "Columns: 3002 entries, Email No. to Prediction\n",
            "dtypes: int64(3001), object(1)\n",
            "memory usage: 37.5+ MB\n",
            "\n",
            "Datatypes of Columns is:\n",
            "\n",
            "Email No.     object\n",
            "the            int64\n",
            "to             int64\n",
            "ect            int64\n",
            "and            int64\n",
            "               ...  \n",
            "military       int64\n",
            "allowing       int64\n",
            "ff             int64\n",
            "dry            int64\n",
            "Prediction     int64\n",
            "Length: 3002, dtype: object\n"
          ]
        }
      ]
    },
    {
      "cell_type": "markdown",
      "source": [
        "## Saving Updated Data into CSV File"
      ],
      "metadata": {
        "id": "q-fFMpmoBlmw"
      }
    },
    {
      "cell_type": "code",
      "source": [
        "# Saving the dataframe as CSV file\n",
        "df.to_csv(\"Updated_Emails.csv\", index = False)"
      ],
      "metadata": {
        "id": "iryRedkhBpoA"
      },
      "execution_count": null,
      "outputs": []
    },
    {
      "cell_type": "markdown",
      "source": [
        "## Now we will use algorithm on this Dataset"
      ],
      "metadata": {
        "id": "ZPYabNHLvdTg"
      }
    },
    {
      "cell_type": "code",
      "source": [
        "# Importing Algorithm and other evaluation metrics\n",
        "from sklearn.tree import DecisionTreeClassifier\n",
        "from sklearn.model_selection import train_test_split\n",
        "from sklearn.metrics import accuracy_score,confusion_matrix,classification_report"
      ],
      "metadata": {
        "id": "lNIEE93qvLC4"
      },
      "execution_count": null,
      "outputs": []
    },
    {
      "cell_type": "markdown",
      "source": [
        "## Extracting Input and Output"
      ],
      "metadata": {
        "id": "Nt_wsFKjv_DA"
      }
    },
    {
      "cell_type": "code",
      "source": [
        "# Input Features\n",
        "# Dropping Email No as it is an object column i.e it contains string values so we will drop it\n",
        "X = df.drop(columns=['Email No.','Prediction'] , axis = 1)\n",
        "\n",
        "# Output Features\n",
        "Y = df['Prediction']\n",
        "\n",
        "# Seeing Shape of Data\n",
        "print(\"Shape of Input Data is:\", X.shape)\n",
        "print(\"\\nShape of Output Data is:\", Y.shape)"
      ],
      "metadata": {
        "colab": {
          "base_uri": "https://localhost:8080/"
        },
        "id": "DyHF0_SHv-VD",
        "outputId": "8d474239-70d6-4955-c4d9-0b45bbd7db3d"
      },
      "execution_count": null,
      "outputs": [
        {
          "output_type": "stream",
          "name": "stdout",
          "text": [
            "Shape of Input Data is: (1635, 3000)\n",
            "\n",
            "Shape of Output Data is: (1635,)\n"
          ]
        }
      ]
    },
    {
      "cell_type": "markdown",
      "source": [
        "# Splitting between Training and Testing Data"
      ],
      "metadata": {
        "id": "82V0uf7Izau8"
      }
    },
    {
      "cell_type": "code",
      "source": [
        "x_train, x_test, y_train, y_test = train_test_split(X, Y, train_size= 0.8)"
      ],
      "metadata": {
        "id": "Gd529BBAzMiW"
      },
      "execution_count": null,
      "outputs": []
    },
    {
      "cell_type": "markdown",
      "source": [
        "# Applying Algorithm"
      ],
      "metadata": {
        "id": "lpfuaHeE2S5H"
      }
    },
    {
      "cell_type": "code",
      "source": [
        "dt = DecisionTreeClassifier()\n",
        "\n",
        "# Training Model\n",
        "dt.fit(x_train, y_train)\n",
        "\n",
        "# Finding Predicted Values\n",
        "dt_train_pred = dt.predict(x_train)\n",
        "\n",
        "# Checking Accuracy for Training\n",
        "print(\"Training Accuracy for Decision Tree Classifer is:\", accuracy_score(y_train, dt_train_pred)*100)\n",
        "\n",
        "print(\"\\nConfusion Matrix is:\\n\", confusion_matrix(y_train, dt_train_pred))\n",
        "\n",
        "print(\"\\nClassification Report is:\\n\",classification_report(y_train, dt_train_pred))"
      ],
      "metadata": {
        "colab": {
          "base_uri": "https://localhost:8080/"
        },
        "id": "HzOJBieX2OLv",
        "outputId": "ccafcb96-f2b2-4397-868a-09573071a21f"
      },
      "execution_count": null,
      "outputs": [
        {
          "output_type": "stream",
          "name": "stdout",
          "text": [
            "Training Accuracy for Decision Tree Classifer is: 100.0\n",
            "\n",
            "Confusion Matrix is:\n",
            " [[ 110    0]\n",
            " [   0 1198]]\n",
            "\n",
            "Classification Report is:\n",
            "               precision    recall  f1-score   support\n",
            "\n",
            "           0       1.00      1.00      1.00       110\n",
            "           1       1.00      1.00      1.00      1198\n",
            "\n",
            "    accuracy                           1.00      1308\n",
            "   macro avg       1.00      1.00      1.00      1308\n",
            "weighted avg       1.00      1.00      1.00      1308\n",
            "\n"
          ]
        }
      ]
    },
    {
      "cell_type": "markdown",
      "source": [
        "## Model Evaluation"
      ],
      "metadata": {
        "id": "U_JwlTiS3cdS"
      }
    },
    {
      "cell_type": "code",
      "source": [
        "# Finding Predicted Values\n",
        "dt_test_pred = dt.predict(x_test)\n",
        "\n",
        "# Checking Accuracy for Training\n",
        "print(\"Testing Accuracy for Decision Tree Classifer is:\", accuracy_score(y_test, dt_test_pred)*100)\n",
        "\n",
        "print(\"\\nConfusion Matrix is:\\n\", confusion_matrix(y_test, dt_test_pred))\n",
        "\n",
        "print(\"\\nClassification Report is:\\n\",classification_report(y_test, dt_test_pred))"
      ],
      "metadata": {
        "colab": {
          "base_uri": "https://localhost:8080/"
        },
        "id": "2Nxnl95z51et",
        "outputId": "1b6f8e2e-80f2-4b08-8939-b7440ca6d316"
      },
      "execution_count": null,
      "outputs": [
        {
          "output_type": "stream",
          "name": "stdout",
          "text": [
            "Testing Accuracy for Decision Tree Classifer is: 98.1651376146789\n",
            "\n",
            "Confusion Matrix is:\n",
            " [[ 21   4]\n",
            " [  2 300]]\n",
            "\n",
            "Classification Report is:\n",
            "               precision    recall  f1-score   support\n",
            "\n",
            "           0       0.91      0.84      0.87        25\n",
            "           1       0.99      0.99      0.99       302\n",
            "\n",
            "    accuracy                           0.98       327\n",
            "   macro avg       0.95      0.92      0.93       327\n",
            "weighted avg       0.98      0.98      0.98       327\n",
            "\n"
          ]
        }
      ]
    },
    {
      "cell_type": "markdown",
      "source": [
        "## Data Visualization on this Dataset"
      ],
      "metadata": {
        "id": "S_ybEBHy6e57"
      }
    },
    {
      "cell_type": "markdown",
      "source": [
        "## Importing PCA for data reduction"
      ],
      "metadata": {
        "id": "jHOa90iU62xG"
      }
    },
    {
      "cell_type": "code",
      "source": [
        "# Importing PCA\n",
        "from sklearn.decomposition import PCA\n",
        "\n",
        "# Making Object of PCA\n",
        "pca = PCA(n_components = 2 )\n",
        "\n",
        "# PCA of Input Data\n",
        "pca_data = pca.fit(X).transform(X)"
      ],
      "metadata": {
        "id": "v31DLc1w67IW"
      },
      "execution_count": null,
      "outputs": []
    },
    {
      "cell_type": "markdown",
      "source": [
        "## Visualization of Original Dataset"
      ],
      "metadata": {
        "id": "8pUvE-K37m_k"
      }
    },
    {
      "cell_type": "code",
      "source": [
        "sns.scatterplot(x = pca_data[:,0], y = pca_data[:,1] , data = pca_data, hue = Y, alpha=0.8)\n",
        "\n",
        "# Adding Labels\n",
        "plt.xlabel(\"Principal Component 1\")\n",
        "plt.ylabel(\"Principal Component 2\")\n",
        "\n",
        "# Adding Title\n",
        "plt.title(\"Scatter Plot of Original Dataset\")\n",
        "\n",
        "# Add a legend with a heading\n",
        "legend = plt.legend(loc='upper right')\n",
        "legend.set_title(\"Spam\")"
      ],
      "metadata": {
        "colab": {
          "base_uri": "https://localhost:8080/",
          "height": 472
        },
        "id": "hM5uwCri7mDT",
        "outputId": "01257d2e-01b9-47c0-d6fb-c8b337686e25"
      },
      "execution_count": null,
      "outputs": [
        {
          "output_type": "display_data",
          "data": {
            "text/plain": [
              "<Figure size 640x480 with 1 Axes>"
            ],
            "image/png": "[encoded data removed]"
          },
          "metadata": {}
        }
      ]
    },
    {
      "cell_type": "markdown",
      "source": [
        "# For Training Set"
      ],
      "metadata": {
        "id": "esEg8mpm6jRx"
      }
    },
    {
      "cell_type": "code",
      "source": [
        "# PCA of Input Data\n",
        "pca_data = pca.fit(x_train).transform(x_train)\n",
        "\n",
        "# Create a figure for the subplots\n",
        "plt.figure(figsize=(13, 10))\n",
        "\n",
        "plt.subplot(2,2,1)\n",
        "\n",
        "# Plot 1\n",
        "# Actual Values in Testing Set\n",
        "sns.scatterplot(x = pca_data[:,0], y = pca_data[:,1] , data = pca_data, hue = y_train, alpha=0.8)\n",
        "\n",
        "# Adding Labels\n",
        "plt.xlabel(\"Principal Component 1\")\n",
        "plt.ylabel(\"Principal Component 2\")\n",
        "\n",
        "# Adding Title\n",
        "plt.title(\"Decision Tree Classifier Training Actual Values\")\n",
        "\n",
        "# Add a legend with a heading\n",
        "legend = plt.legend(loc='upper right')\n",
        "legend.set_title(\"Spam\")\n",
        "\n",
        "plt.subplot(2,2,2)\n",
        "# Plot 2\n",
        "# Predicted Values in Testing Set\n",
        "sns.scatterplot(x = pca_data[:,0], y = pca_data[:,1] , data = pca_data, hue = dt_train_pred, alpha=0.8)\n",
        "\n",
        "# Adding Labels\n",
        "plt.xlabel(\"Principal Component 1\")\n",
        "plt.ylabel(\"Principal Component 2\")\n",
        "\n",
        "# Adding Title\n",
        "plt.title(\"Decision Tree Classifier Training Predicted Values\")\n",
        "\n",
        "# Add a legend with a heading\n",
        "legend = plt.legend(loc='upper right')\n",
        "legend.set_title(\"Spam\")\n",
        "\n",
        "# Adding title to plot\n",
        "plt.suptitle(\"Decision Tree Classifier Training Classification Plot\")"
      ],
      "metadata": {
        "colab": {
          "base_uri": "https://localhost:8080/",
          "height": 414
        },
        "id": "XtLh7a7e6Z2L",
        "outputId": "37fcdc4d-c459-4646-ef81-72d8e8cad46e"
      },
      "execution_count": null,
      "outputs": [
        {
          "output_type": "execute_result",
          "data": {
            "text/plain": [
              "Text(0.5, 0.98, 'Decision Tree Classifier Training Classification Plot')"
            ]
          },
          "metadata": {},
          "execution_count": 162
        },
        {
          "output_type": "display_data",
          "data": {
            "text/plain": [
              "<Figure size 1300x1000 with 2 Axes>"
            ],
            "image/png": "[encoded data removed]"
          },
          "metadata": {}
        }
      ]
    },
    {
      "cell_type": "markdown",
      "source": [
        "## For Testing Set"
      ],
      "metadata": {
        "id": "IngmHAFW78df"
      }
    },
    {
      "cell_type": "code",
      "source": [
        "# PCA of Input Data\n",
        "pca_data = pca.fit(x_test).transform(x_test)\n",
        "\n",
        "# Create a figure for the subplots\n",
        "plt.figure(figsize=(13, 10))\n",
        "\n",
        "plt.subplot(2,2,1)\n",
        "\n",
        "# Plot 1\n",
        "# Actual Values in Testing Set\n",
        "sns.scatterplot(x = pca_data[:,0], y = pca_data[:,1] , data = pca_data, hue = y_test, alpha=0.8)\n",
        "\n",
        "# Adding Labels\n",
        "plt.xlabel(\"Principal Component 1\")\n",
        "plt.ylabel(\"Principal Component 2\")\n",
        "\n",
        "# Adding Title\n",
        "plt.title(\"Decision Tree Classifier Testing Actual Values\")\n",
        "\n",
        "# Add a legend with a heading\n",
        "legend = plt.legend(loc='upper right')\n",
        "legend.set_title(\"Spam\")\n",
        "\n",
        "plt.subplot(2,2,2)\n",
        "# Plot 2\n",
        "# Predicted Values in Testing Set\n",
        "sns.scatterplot(x = pca_data[:,0], y = pca_data[:,1] , data = pca_data, hue = dt_test_pred, alpha=0.8)\n",
        "\n",
        "# Adding Labels\n",
        "plt.xlabel(\"Principal Component 1\")\n",
        "plt.ylabel(\"Principal Component 2\")\n",
        "\n",
        "# Adding Title\n",
        "plt.title(\"Decision Tree Classifier Testing Predicted Values\")\n",
        "\n",
        "# Add a legend with a heading\n",
        "legend = plt.legend(loc='upper right')\n",
        "legend.set_title(\"Spam\")\n",
        "\n",
        "# Adding title to plot\n",
        "plt.suptitle(\"Decision Tree Classifier Testing Classification Plot\")"
      ],
      "metadata": {
        "colab": {
          "base_uri": "https://localhost:8080/",
          "height": 418
        },
        "id": "_jMyw05V603J",
        "outputId": "a0dcab25-d892-4b6f-88bc-e4aab3e78f12"
      },
      "execution_count": null,
      "outputs": [
        {
          "output_type": "execute_result",
          "data": {
            "text/plain": [
              "Text(0.5, 0.98, 'Decision Tree Classifier Testing Classification Plot')"
            ]
          },
          "metadata": {},
          "execution_count": 163
        },
        {
          "output_type": "display_data",
          "data": {
            "text/plain": [
              "<Figure size 1300x1000 with 2 Axes>"
            ],
            "image/png": "[encoded data removed]"
          },
          "metadata": {}
        }
      ]
    },
    {
      "cell_type": "code",
      "source": [],
      "metadata": {
        "id": "jWtVaufJ_or6"
      },
      "execution_count": null,
      "outputs": []
    }
  ]
}