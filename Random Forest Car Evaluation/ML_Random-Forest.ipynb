{
 "cells": [
  {
   "cell_type": "markdown",
   "metadata": {},
   "source": [
    "Overfitting is disadvantage of decision tree<br>\n",
    "We use random forest to overcome this<br>\n",
    "Random forest is like a combination of decision trees"
   ]
  },
  {
   "cell_type": "markdown",
   "metadata": {},
   "source": [
    "To read csv file"
   ]
  },
  {
   "cell_type": "code",
   "execution_count": 1,
   "metadata": {},
   "outputs": [],
   "source": [
    "import pandas as pd\n",
    "# For splitting between training and testing\n",
    "from sklearn.model_selection import train_test_split\n",
    "# Importing Algorithm\n",
    "from sklearn.ensemble import RandomForestClassifier\n",
    "# For checking/Evaluating accuracy of model and printing the confusion matrix\n",
    "from sklearn.metrics import accuracy_score,confusion_matrix\n",
    "# For Plotting\n",
    "import matplotlib.pyplot as plt\n",
    "# For dimension reduction\n",
    "from sklearn.decomposition import PCA\n",
    "# For converting string to int\n",
    "from sklearn.preprocessing import LabelEncoder\n",
    "# For Saving model as pkl file\n",
    "import joblib"
   ]
  },
  {
   "cell_type": "markdown",
   "metadata": {},
   "source": [
    "Car dataset<br>\n",
    "Six input attributes:<br>\n",
    "1. buying- Buying Level or Capacity of the Customer(Very High:vhigh, High:high, Low:low, Medium:med)\n",
    "2. maint-Maintenence Level(Very High:vhigh, High:high, Low:low, Medium:med)\n",
    "3. doors- Number of doors in car(2,3,4 and 5 or more)\n",
    "4. persons- Capacity in terms of persons to carry(2,4 and more)\n",
    "5. lug_boot- The size of Luggage Boot(small,med,big)\n",
    "6. safety-Safety Level of Car(high,med,low)\n",
    "<br><br>\n",
    "Output Class Values:<br>\n",
    "0- unacc-Unacceptable<br>\n",
    "1- acc-Acceptable<br>\n",
    "2- good-Good Condition<br>\n",
    "3- vgood- Very Good Condition<br>"
   ]
  },
  {
   "cell_type": "code",
   "execution_count": 2,
   "metadata": {},
   "outputs": [
    {
     "name": "stdout",
     "output_type": "stream",
     "text": [
      "Dataframe is:\n",
      "       vhigh vhigh.1      2   2.1  small   low  unacc\n",
      "0     vhigh   vhigh      2     2  small   med  unacc\n",
      "1     vhigh   vhigh      2     2  small  high  unacc\n",
      "2     vhigh   vhigh      2     2    med   low  unacc\n",
      "3     vhigh   vhigh      2     2    med   med  unacc\n",
      "4     vhigh   vhigh      2     2    med  high  unacc\n",
      "...     ...     ...    ...   ...    ...   ...    ...\n",
      "1722    low     low  5more  more    med   med   good\n",
      "1723    low     low  5more  more    med  high  vgood\n",
      "1724    low     low  5more  more    big   low  unacc\n",
      "1725    low     low  5more  more    big   med   good\n",
      "1726    low     low  5more  more    big  high  vgood\n",
      "\n",
      "[1727 rows x 7 columns]\n",
      "\n",
      "Columns in dataframe are: Index(['vhigh', 'vhigh.1', '2', '2.1', 'small', 'low', 'unacc'], dtype='object')\n",
      "\n",
      "Information about Dataframe is:\n",
      "\n",
      "<bound method DataFrame.info of       vhigh vhigh.1      2   2.1  small   low  unacc\n",
      "0     vhigh   vhigh      2     2  small   med  unacc\n",
      "1     vhigh   vhigh      2     2  small  high  unacc\n",
      "2     vhigh   vhigh      2     2    med   low  unacc\n",
      "3     vhigh   vhigh      2     2    med   med  unacc\n",
      "4     vhigh   vhigh      2     2    med  high  unacc\n",
      "...     ...     ...    ...   ...    ...   ...    ...\n",
      "1722    low     low  5more  more    med   med   good\n",
      "1723    low     low  5more  more    med  high  vgood\n",
      "1724    low     low  5more  more    big   low  unacc\n",
      "1725    low     low  5more  more    big   med   good\n",
      "1726    low     low  5more  more    big  high  vgood\n",
      "\n",
      "[1727 rows x 7 columns]>\n"
     ]
    }
   ],
   "source": [
    "df=pd.read_csv(\"car_evaluation.csv\")\n",
    "print(\"Dataframe is:\\n\",df)\n",
    "print(\"\\nColumns in dataframe are:\",df.columns)\n",
    "print(\"\\nInformation about Dataframe is:\\n\")\n",
    "print(df.info)"
   ]
  },
  {
   "cell_type": "markdown",
   "metadata": {},
   "source": [
    "For converting string columns to numeric values"
   ]
  },
  {
   "cell_type": "code",
   "execution_count": 3,
   "metadata": {},
   "outputs": [],
   "source": [
    "le= LabelEncoder()"
   ]
  },
  {
   "cell_type": "markdown",
   "metadata": {},
   "source": [
    "Function to convert string values to numeric values"
   ]
  },
  {
   "cell_type": "code",
   "execution_count": 4,
   "metadata": {},
   "outputs": [],
   "source": [
    "func = lambda i:le.fit(df[i]).transform(df[i])\n",
    "for i in df.columns:\n",
    "    df[i]=func(i)"
   ]
  },
  {
   "cell_type": "markdown",
   "metadata": {},
   "source": [
    "Printing Updated Dataframe"
   ]
  },
  {
   "cell_type": "code",
   "execution_count": 5,
   "metadata": {},
   "outputs": [
    {
     "name": "stdout",
     "output_type": "stream",
     "text": [
      "Updated Dataframe is:\n",
      "      vhigh  vhigh.1  2  2.1  small  low  unacc\n",
      "0         3        3  0    0      2    2      2\n",
      "1         3        3  0    0      2    0      2\n",
      "2         3        3  0    0      1    1      2\n",
      "3         3        3  0    0      1    2      2\n",
      "4         3        3  0    0      1    0      2\n",
      "...     ...      ... ..  ...    ...  ...    ...\n",
      "1722      1        1  3    2      1    2      1\n",
      "1723      1        1  3    2      1    0      3\n",
      "1724      1        1  3    2      0    1      2\n",
      "1725      1        1  3    2      0    2      1\n",
      "1726      1        1  3    2      0    0      3\n",
      "\n",
      "[1727 rows x 7 columns]\n",
      "\n",
      "Final Dataset is:\n",
      "      buying_capacity  Maintenence  Doors  No_of_Persons  Luggage_Boot  \\\n",
      "0                   3            3      0              0             2   \n",
      "1                   3            3      0              0             2   \n",
      "2                   3            3      0              0             1   \n",
      "3                   3            3      0              0             1   \n",
      "4                   3            3      0              0             1   \n",
      "...               ...          ...    ...            ...           ...   \n",
      "1722                1            1      3              2             1   \n",
      "1723                1            1      3              2             1   \n",
      "1724                1            1      3              2             0   \n",
      "1725                1            1      3              2             0   \n",
      "1726                1            1      3              2             0   \n",
      "\n",
      "      Safety  Target_Class  \n",
      "0          2             2  \n",
      "1          0             2  \n",
      "2          1             2  \n",
      "3          2             2  \n",
      "4          0             2  \n",
      "...      ...           ...  \n",
      "1722       2             1  \n",
      "1723       0             3  \n",
      "1724       1             2  \n",
      "1725       2             1  \n",
      "1726       0             3  \n",
      "\n",
      "[1727 rows x 7 columns]\n"
     ]
    }
   ],
   "source": [
    "print(\"Updated Dataframe is:\")\n",
    "print(df)\n",
    "# Renaming columns\n",
    "df.rename(columns={\"vhigh\":\"buying_capacity\",\"vhigh.1\":\"Maintenence\",\"2\":\"Doors\",\"2.1\":\"No_of_Persons\",\"small\":\"Luggage_Boot\",\"low\":\"Safety\",\"unacc\":\"Target_Class\"},inplace=True)\n",
    "# Printing Final Dataset\n",
    "print(\"\\nFinal Dataset is:\")\n",
    "print(df)"
   ]
  },
  {
   "cell_type": "markdown",
   "metadata": {},
   "source": [
    "Input and Output data"
   ]
  },
  {
   "cell_type": "code",
   "execution_count": 6,
   "metadata": {},
   "outputs": [],
   "source": [
    "X,Y=df.drop([\"Target_Class\"],axis=1),df['Target_Class']"
   ]
  },
  {
   "cell_type": "code",
   "execution_count": 7,
   "metadata": {},
   "outputs": [
    {
     "name": "stdout",
     "output_type": "stream",
     "text": [
      "Shape of training test data: (346, 6) \n",
      "Shape of training test data: (346,) \n",
      "\n"
     ]
    }
   ],
   "source": [
    "x_train,x_test,y_train,y_test=train_test_split(X,Y,train_size=0.8,shuffle=False)\n",
    "print(\"Shape of training test data:\",x_test.shape,\"\\nShape of training test data:\",y_test.shape,\"\\n\")"
   ]
  },
  {
   "cell_type": "markdown",
   "metadata": {},
   "source": [
    "Choosing algorithm<br>\n",
    "Model is not good enough(not giving accuracy for by default parameters), so we need to change pararmeters"
   ]
  },
  {
   "cell_type": "code",
   "execution_count": 8,
   "metadata": {},
   "outputs": [
    {
     "data": {
      "text/plain": [
       "RandomForestClassifier(criterion='entropy', max_depth=10, n_estimators=1000)"
      ]
     },
     "execution_count": 8,
     "metadata": {},
     "output_type": "execute_result"
    }
   ],
   "source": [
    "dt=RandomForestClassifier(1000,criterion=\"entropy\",max_depth=10)\n",
    "# Training Model\n",
    "dt.fit(x_train,y_train)"
   ]
  },
  {
   "cell_type": "markdown",
   "metadata": {},
   "source": [
    "Evaluating/Testing the model"
   ]
  },
  {
   "cell_type": "code",
   "execution_count": 9,
   "metadata": {},
   "outputs": [
    {
     "name": "stdout",
     "output_type": "stream",
     "text": [
      "Training Accuracy is: 99.9275887038378\n",
      "\n",
      "Predicted Data is:\n",
      " [2 2 2 2 2 2 0 2 0 0 2 0 0 2 2 0 2 0 0 2 0 0 2 2 2 2 2 2 2 2 2 2 2 0 2 2 0\n",
      " 2 0 0 2 2 2 2 2 0 2 0 0 2 2 2 2 2 2 2 2 2 2 2 0 2 2 0 2 0 0 2 2 0 2 0 0 2\n",
      " 0 0 2 2 2 2 2 2 2 2 2 2 2 0 2 0 0 2 0 0 2 2 0 2 0 0 2 0 0 2 2 2 2 2 2 2 2\n",
      " 2 2 2 0 2 0 0 2 0 0 2 2 0 2 0 0 2 0 0 2 2 2 2 2 2 2 2 2 2 2 0 2 2 0 2 0 0\n",
      " 2 2 2 2 2 0 2 0 0 2 2 2 2 2 2 2 2 2 2 2 0 2 2 0 2 0 0 2 2 0 2 0 0 2 0 0 2\n",
      " 2 2 2 2 2 2 2 2 2 2 0 2 0 0 2 0 0 2 2 0 2 0 0 2 0 0 2 2 2 2 2 2 2 2 2 2 2\n",
      " 0 2 0 0 2 0 0 2 2 0 2 0 0 2 0 0 2 2 2 2 2 2 2 2 2 2 2 0 2 2 0 2 0 0 2 2 2\n",
      " 2 2 0 2 0 0 2 2 2 2 2 2 2 2 2 2 2 0 2 2 0 2 0 0 2 2 0 2 0 0 2 0 0 2 2 2 2\n",
      " 2 2 2 2 2 2 2 0 2 0 0 2 0 0 2 2 0 2 0 0 2 0 0 2 2 2 2 2 2 2 2 2 2 2 0 2 0\n",
      " 0 2 0 0 2 2 0 2 0 0 2 0 0]\n",
      "\n",
      "Testing Accuracy is: 66.76300578034682\n",
      "\n",
      "Confusion Matrix is:\n",
      " [[ 33   0  30   0]\n",
      " [ 46   0   0   0]\n",
      " [  0   0 198   0]\n",
      " [ 39   0   0   0]]\n"
     ]
    }
   ],
   "source": [
    "print(\"Training Accuracy is:\",dt.score(x_train,y_train)*100)\n",
    "predict=dt.predict(x_test)\n",
    "print(\"\\nPredicted Data is:\\n\",predict)\n",
    "print(\"\\nTesting Accuracy is:\",accuracy_score(y_test,predict)*100)\n",
    "print(\"\\nConfusion Matrix is:\\n\",confusion_matrix(y_test,predict))"
   ]
  },
  {
   "cell_type": "markdown",
   "metadata": {},
   "source": [
    "Doing PCA(Principle component analysis) to reduce dimensions"
   ]
  },
  {
   "cell_type": "code",
   "execution_count": 10,
   "metadata": {},
   "outputs": [
    {
     "name": "stdout",
     "output_type": "stream",
     "text": [
      "Transforming data\n",
      " [[ 4.68219671e-13  2.09011595e-13  2.59437792e+00]\n",
      " [ 4.67491893e-13  2.11588331e-13  2.59437792e+00]\n",
      " [ 4.69022722e-13  2.06778647e-13  2.59696903e+00]\n",
      " ...\n",
      " [ 7.07106781e-01 -4.08248290e-01 -1.43668238e+00]\n",
      " [ 7.07106781e-01 -4.08248290e-01 -1.43668238e+00]\n",
      " [ 7.07106781e-01 -4.08248290e-01 -1.43668238e+00]]\n",
      "\n",
      "Shape of Transformed data is: (1727, 3)\n",
      "\n",
      "Transformed Data is:\n",
      "[[ 7.64750487e-14  3.90478808e-13  2.59437792e+00]\n",
      " [ 7.69831441e-14  3.88369542e-13  2.59437792e+00]\n",
      " [ 7.82591726e-14  3.92153733e-13  2.59696903e+00]\n",
      " ...\n",
      " [ 4.08248290e-01  7.07106781e-01 -1.43668238e+00]\n",
      " [ 4.08248290e-01  7.07106781e-01 -1.43668238e+00]\n",
      " [ 4.08248290e-01  7.07106781e-01 -1.43668238e+00]]\n"
     ]
    }
   ],
   "source": [
    "x=PCA(n_components=3)\n",
    "pca_data=x.fit_transform(X)\n",
    "# Transforming data\n",
    "pca_data=x.fit_transform(X)\n",
    "print(\"Transforming data\\n\",x.fit_transform(X))\n",
    "print(\"\\nShape of Transformed data is:\",pca_data.shape)\n",
    "print(\"\\nTransformed Data is:\")\n",
    "print(pca_data)"
   ]
  },
  {
   "cell_type": "markdown",
   "metadata": {},
   "source": [
    "Plotting"
   ]
  },
  {
   "cell_type": "code",
   "execution_count": 11,
   "metadata": {},
   "outputs": [
    {
     "data": {
      "image/png": "[encoded data removed]",
      "text/plain": [
       "<Figure size 432x288 with 1 Axes>"
      ]
     },
     "metadata": {
      "needs_background": "light"
     },
     "output_type": "display_data"
    }
   ],
   "source": [
    "plt.scatter(pca_data[:,0],pca_data[:,2])\n",
    "plt.title(\"Graph for Car data\")\n",
    "plt.show()"
   ]
  },
  {
   "cell_type": "markdown",
   "metadata": {},
   "source": [
    "Saving model to disk"
   ]
  },
  {
   "cell_type": "code",
   "execution_count": 12,
   "metadata": {},
   "outputs": [
    {
     "data": {
      "text/plain": [
       "['model.pkl']"
      ]
     },
     "execution_count": 12,
     "metadata": {},
     "output_type": "execute_result"
    }
   ],
   "source": [
    "# Save the model\n",
    "joblib.dump(dt, 'model.pkl')"
   ]
  }
 ],
 "metadata": {
  "kernelspec": {
   "display_name": "Python 3 (ipykernel)",
   "language": "python",
   "name": "python3"
  },
  "language_info": {
   "codemirror_mode": {
    "name": "ipython",
    "version": 3
   },
   "file_extension": ".py",
   "mimetype": "text/x-python",
   "name": "python",
   "nbconvert_exporter": "python",
   "pygments_lexer": "ipython3",
   "version": "3.9.12"
  }
 },
 "nbformat": 4,
 "nbformat_minor": 2
}
