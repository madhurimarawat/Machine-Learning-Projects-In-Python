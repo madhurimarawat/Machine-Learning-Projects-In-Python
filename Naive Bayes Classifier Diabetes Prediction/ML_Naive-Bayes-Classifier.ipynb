{
 "cells": [
  {
   "cell_type": "markdown",
   "metadata": {},
   "source": [
    "Naive-Bayes Classifier-Supervised Learning Algorithm<br>\n",
    "Mainly used for text classification<br>\n",
    "Based on Bayes Theorem<br>\n",
    "Seeing Accuracy of model for various datasets"
   ]
  },
  {
   "cell_type": "markdown",
   "metadata": {},
   "source": [
    "Importing Required Libraries"
   ]
  },
  {
   "cell_type": "code",
   "execution_count": 60,
   "metadata": {},
   "outputs": [],
   "source": [
    "# Importing Numpy\n",
    "import numpy as np\n",
    "# To read csv file\n",
    "import pandas as pd\n",
    "# For splitting between training and testing\n",
    "from sklearn.model_selection import train_test_split\n",
    "# Importing Algorithm\n",
    "from sklearn.naive_bayes import GaussianNB\n",
    "# For checking/Evaluating accuracy of model and printing the confusion matrix\n",
    "from sklearn.metrics import accuracy_score,confusion_matrix\n",
    "# For Plotting\n",
    "import matplotlib.pyplot as plt\n",
    "# For Saving model as pkl file\n",
    "import pickle"
   ]
  },
  {
   "cell_type": "markdown",
   "metadata": {},
   "source": [
    "Data Gathering<br>\n",
    "Glucose and blood pressure as input and diabetes as output<br>\n",
    "Model will predict if person is diabetic or not"
   ]
  },
  {
   "cell_type": "code",
   "execution_count": 61,
   "metadata": {},
   "outputs": [
    {
     "name": "stdout",
     "output_type": "stream",
     "text": [
      "Data is:\n",
      "      glucose  bloodpressure  diabetes\n",
      "0         40             85         0\n",
      "1         40             92         0\n",
      "2         45             63         1\n",
      "3         45             80         0\n",
      "4         40             73         1\n",
      "..       ...            ...       ...\n",
      "990       45             87         0\n",
      "991       40             83         0\n",
      "992       40             83         0\n",
      "993       40             60         1\n",
      "994       45             82         0\n",
      "\n",
      "[995 rows x 3 columns]\n",
      "\n",
      "Information about Dataframe is:\n",
      " <bound method DataFrame.info of      glucose  bloodpressure  diabetes\n",
      "0         40             85         0\n",
      "1         40             92         0\n",
      "2         45             63         1\n",
      "3         45             80         0\n",
      "4         40             73         1\n",
      "..       ...            ...       ...\n",
      "990       45             87         0\n",
      "991       40             83         0\n",
      "992       40             83         0\n",
      "993       40             60         1\n",
      "994       45             82         0\n",
      "\n",
      "[995 rows x 3 columns]>\n"
     ]
    }
   ],
   "source": [
    "data=pd.read_csv(\"Naive-Bayes-Classification-Data.csv\")\n",
    "print(\"Data is:\\n\",data)\n",
    "print(\"\\nInformation about Dataframe is:\\n\",data.info)"
   ]
  },
  {
   "cell_type": "markdown",
   "metadata": {},
   "source": [
    "Data Preprocessing is not required as data is already cleaned<br>\n",
    "Splitting between Input(X) and Output(Y)"
   ]
  },
  {
   "cell_type": "code",
   "execution_count": 62,
   "metadata": {},
   "outputs": [
    {
     "name": "stdout",
     "output_type": "stream",
     "text": [
      "Input is:\n",
      "      glucose  bloodpressure\n",
      "0         40             85\n",
      "1         40             92\n",
      "2         45             63\n",
      "3         45             80\n",
      "4         40             73\n",
      "..       ...            ...\n",
      "990       45             87\n",
      "991       40             83\n",
      "992       40             83\n",
      "993       40             60\n",
      "994       45             82\n",
      "\n",
      "[995 rows x 2 columns] \n",
      " Output is:\n",
      " 0      0\n",
      "1      0\n",
      "2      1\n",
      "3      0\n",
      "4      1\n",
      "      ..\n",
      "990    0\n",
      "991    0\n",
      "992    0\n",
      "993    1\n",
      "994    0\n",
      "Name: diabetes, Length: 995, dtype: int64\n",
      "Shape of x_train(training data) for dataset is: (796, 2) Shape of y_train(testing data) for dataset is: (796,)\n"
     ]
    }
   ],
   "source": [
    "X,Y=data.drop(\"diabetes\",axis=1),data['diabetes']\n",
    "print(\"Input is:\\n\",X,\"\\n\",\"Output is:\\n\",Y)\n",
    "# Splitting data into training and testing\n",
    "x_train,x_test,y_train,y_test=train_test_split(X,Y,train_size=0.8)\n",
    "print(\"Shape of x_train(training data) for dataset is:\",x_train.shape,\"Shape of y_train(testing data) for dataset is:\",y_train.shape)"
   ]
  },
  {
   "cell_type": "markdown",
   "metadata": {},
   "source": [
    "Choosing algorithm"
   ]
  },
  {
   "cell_type": "code",
   "execution_count": 63,
   "metadata": {},
   "outputs": [
    {
     "data": {
      "text/plain": [
       "GaussianNB()"
      ]
     },
     "execution_count": 63,
     "metadata": {},
     "output_type": "execute_result"
    }
   ],
   "source": [
    "nb=GaussianNB()\n",
    "# Training the model\n",
    "nb.fit(x_train,y_train)"
   ]
  },
  {
   "cell_type": "markdown",
   "metadata": {},
   "source": [
    "Evaluating/Testing the model"
   ]
  },
  {
   "cell_type": "code",
   "execution_count": 64,
   "metadata": {},
   "outputs": [
    {
     "name": "stdout",
     "output_type": "stream",
     "text": [
      "Training Accuracy is: 93.5929648241206\n",
      "Predicted Data is:\n",
      " [1 1 1 0 1 1 0 1 0 0 1 1 1 0 1 0 0 1 0 0 0 0 0 1 0 0 0 0 0 1 0 0 0 1 0 0 1\n",
      " 1 0 0 0 1 1 1 0 1 1 0 1 1 1 0 0 1 0 1 1 0 0 1 1 0 1 0 1 1 0 1 0 1 0 0 0 0\n",
      " 1 0 0 1 0 0 1 0 1 0 1 0 0 1 1 0 0 0 1 0 0 1 1 0 0 0 1 1 0 1 0 0 0 0 0 1 1\n",
      " 0 0 0 0 0 1 0 1 0 0 1 1 1 0 1 1 1 0 0 0 0 0 1 1 0 0 0 1 0 0 1 0 0 1 0 0 1\n",
      " 1 1 1 1 0 1 0 1 0 0 0 1 1 0 1 0 0 1 0 1 0 0 1 1 1 0 1 0 1 1 0 0 1 1 0 0 0\n",
      " 1 1 1 0 0 1 1 0 0 1 0 0 0 1]\n",
      "Testing Accuracy is: 92.46231155778895\n",
      "Confusion Matrix is:\n",
      " [[104   9]\n",
      " [  6  80]]\n"
     ]
    }
   ],
   "source": [
    "print(\"Training Accuracy is:\",nb.score(x_train,y_train)*100)\n",
    "predicted_data=nb.predict(x_test)\n",
    "print(\"Predicted Data is:\\n\",predicted_data)\n",
    "print(\"Testing Accuracy is:\",accuracy_score(y_test,predicted_data)*100)\n",
    "# Printing Confusion Matrix\n",
    "print(\"Confusion Matrix is:\\n\",confusion_matrix(y_test,predicted_data))"
   ]
  },
  {
   "cell_type": "markdown",
   "metadata": {},
   "source": [
    "Because this dataset has a lot of overlapping points<br>\n",
    "Add a small amount of jitter to the data points"
   ]
  },
  {
   "cell_type": "code",
   "execution_count": 65,
   "metadata": {},
   "outputs": [],
   "source": [
    "jittered_glucose = X[\"glucose\"] + np.random.normal(0, 0.5, len(X))\n",
    "jittered_bloodpressure = X[\"bloodpressure\"] + np.random.normal(0, 0.5, len(X))\n",
    "# Increase point size to make them more visible\n",
    "point_size = 20  # Adjust the size as needed"
   ]
  },
  {
   "cell_type": "code",
   "execution_count": 66,
   "metadata": {},
   "outputs": [],
   "source": [
    "# Define a mapping for colors based on labels (1 for diabetic, 0 for not diabetic)\n",
    "color_map = {1: 'yellow', 0: 'purple'}\n",
    "\n",
    "# Create a list of colors corresponding to each data point\n",
    "colors = [color_map[label] for label in Y]"
   ]
  },
  {
   "cell_type": "markdown",
   "metadata": {},
   "source": [
    "Plotting according to diabetic or not"
   ]
  },
  {
   "cell_type": "code",
   "execution_count": 67,
   "metadata": {},
   "outputs": [
    {
     "data": {
      "image/png": "[encoded data removed]",
      "text/plain": [
       "<Figure size 432x288 with 1 Axes>"
      ]
     },
     "metadata": {
      "needs_background": "light"
     },
     "output_type": "display_data"
    }
   ],
   "source": [
    "# Adding transparency because there are lots of overlapping points\n",
    "plt.scatter(jittered_glucose,jittered_bloodpressure,c=Y,alpha=0.8)\n",
    "plt.xlabel(\"Glucose\")\n",
    "plt.ylabel(\"Blood Pressure\")\n",
    "plt.title(\"Graph showing a patient is diabetic or not\")\n",
    "# Create a legend with labels \"Diabetic\" and \"Not Diabetic\"\n",
    "handles = [plt.Line2D([0], [0], marker='o', color='w', markerfacecolor=color, markersize=10, label=(\"Diabetic\" if label == 1 else \"Not Diabetic\")) for label, color in color_map.items()]\n",
    "plt.legend(handles=handles, title='Diabetic')\n",
    "plt.show()"
   ]
  },
  {
   "cell_type": "markdown",
   "metadata": {},
   "source": [
    "Saving model to disk"
   ]
  },
  {
   "cell_type": "code",
   "execution_count": 68,
   "metadata": {},
   "outputs": [],
   "source": [
    "pickle.dump(nb, open('model.pkl','wb'))"
   ]
  }
 ],
 "metadata": {
  "kernelspec": {
   "display_name": "Python 3 (ipykernel)",
   "language": "python",
   "name": "python3"
  },
  "language_info": {
   "codemirror_mode": {
    "name": "ipython",
    "version": 3
   },
   "file_extension": ".py",
   "mimetype": "text/x-python",
   "name": "python",
   "nbconvert_exporter": "python",
   "pygments_lexer": "ipython3",
   "version": "3.9.12"
  }
 },
 "nbformat": 4,
 "nbformat_minor": 2
}
