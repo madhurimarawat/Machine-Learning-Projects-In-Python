{
 "cells": [
  {
   "cell_type": "markdown",
   "id": "2897f5bf",
   "metadata": {},
   "source": [
    "### Importing Required Libraries\n",
    "\n",
    "```\n",
    "Ensure that pyarrow is already installed else install using\n",
    "pip install pyarrow\n",
    "```"
   ]
  },
  {
   "cell_type": "code",
   "execution_count": 1,
   "id": "b3464c55",
   "metadata": {},
   "outputs": [],
   "source": [
    "import pandas as pd"
   ]
  },
  {
   "cell_type": "markdown",
   "id": "c1a9d8b1",
   "metadata": {},
   "source": [
    "### Reading Data File"
   ]
  },
  {
   "cell_type": "code",
   "execution_count": 9,
   "id": "266b7f38",
   "metadata": {},
   "outputs": [
    {
     "name": "stdout",
     "output_type": "stream",
     "text": [
      "Dataframe is:\n",
      "\n",
      "\n",
      "   VendorID lpep_pickup_datetime lpep_dropoff_datetime store_and_fwd_flag  \\\n",
      "0         2  2024-01-01 00:46:55   2024-01-01 00:58:25                  N   \n",
      "1         2  2024-01-01 00:31:42   2024-01-01 00:52:34                  N   \n",
      "2         2  2024-01-01 00:30:21   2024-01-01 00:49:23                  N   \n",
      "3         1  2024-01-01 00:30:20   2024-01-01 00:42:12                  N   \n",
      "4         2  2024-01-01 00:32:38   2024-01-01 00:43:37                  N   \n",
      "\n",
      "   RatecodeID  PULocationID  DOLocationID  passenger_count  trip_distance  \\\n",
      "0         1.0           236           239              1.0           1.98   \n",
      "1         1.0            65           170              5.0           6.54   \n",
      "2         1.0            74           262              1.0           3.08   \n",
      "3         1.0            74           116              1.0           2.40   \n",
      "4         1.0            74           243              1.0           5.14   \n",
      "\n",
      "   fare_amount  extra  mta_tax  tip_amount  tolls_amount  ehail_fee  \\\n",
      "0         12.8    1.0      0.5        3.61           0.0        NaN   \n",
      "1         30.3    1.0      0.5        7.11           0.0        NaN   \n",
      "2         19.8    1.0      0.5        3.00           0.0        NaN   \n",
      "3         14.2    1.0      1.5        0.00           0.0        NaN   \n",
      "4         22.6    1.0      0.5        6.28           0.0        NaN   \n",
      "\n",
      "   improvement_surcharge  total_amount  payment_type  trip_type  \\\n",
      "0                    1.0         21.66           1.0        1.0   \n",
      "1                    1.0         42.66           1.0        1.0   \n",
      "2                    1.0         28.05           1.0        1.0   \n",
      "3                    1.0         16.70           2.0        1.0   \n",
      "4                    1.0         31.38           1.0        1.0   \n",
      "\n",
      "   congestion_surcharge  \n",
      "0                  2.75  \n",
      "1                  2.75  \n",
      "2                  2.75  \n",
      "3                  0.00  \n",
      "4                  0.00  \n",
      "\n",
      "\n",
      "Shape of Dataframe is: (56551, 20)\n"
     ]
    }
   ],
   "source": [
    "# Importing file as dataframe\n",
    "df = pd.read_parquet(r\"C:\\Users\\rawat\\Downloads\\Grafana Dashboard\\NYC Taxi Fare Project\\NYC Taxi Fare Dataset\\green_tripdata_2024-01.parquet\")\n",
    "\n",
    "# Seeing the dataframe first rows\n",
    "print(\"Dataframe is:\\n\\n\")\n",
    "print(df.head())\n",
    "\n",
    "print()\n",
    "\n",
    "# Seeing Shape of dataframe\n",
    "print(\"\\nShape of Dataframe is:\",df.shape)"
   ]
  },
  {
   "cell_type": "code",
   "execution_count": null,
   "id": "b3b0d756",
   "metadata": {},
   "outputs": [],
   "source": []
  }
 ],
 "metadata": {
  "kernelspec": {
   "display_name": "Python 3 (ipykernel)",
   "language": "python",
   "name": "python3"
  },
  "language_info": {
   "codemirror_mode": {
    "name": "ipython",
    "version": 3
   },
   "file_extension": ".py",
   "mimetype": "text/x-python",
   "name": "python",
   "nbconvert_exporter": "python",
   "pygments_lexer": "ipython3",
   "version": "3.11.4"
  }
 },
 "nbformat": 4,
 "nbformat_minor": 5
}
