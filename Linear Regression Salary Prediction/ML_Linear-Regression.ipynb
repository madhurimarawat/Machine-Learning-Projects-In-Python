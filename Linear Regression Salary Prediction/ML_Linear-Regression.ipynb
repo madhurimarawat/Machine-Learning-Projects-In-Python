{
 "cells": [
  {
   "cell_type": "markdown",
   "metadata": {},
   "source": [
    "# Python Machine Learning Model for Salary Dataset\n",
    "\n",
    "## First Model is made using supervised learning model\n",
    "## Then deployment is done using flask server\n"
   ]
  },
  {
   "cell_type": "markdown",
   "metadata": {},
   "source": [
    "Regression is used to find real values<br>\n",
    "It gives a general formula for the dataset<br>\n",
    "In this we calculate how much the difference in between the predicted value and the actual value for the whole dataset<br>\n",
    "Difference between actual value and predicted value is called cost function<br>\n",
    "Error is calculated for entire dataset using this cost function"
   ]
  },
  {
   "cell_type": "markdown",
   "metadata": {},
   "source": [
    "# Importing Libraries\n"
   ]
  },
  {
   "cell_type": "code",
   "execution_count": 13,
   "metadata": {},
   "outputs": [],
   "source": [
    "#To read CSV file\n",
    "import pandas as pd\n",
    "# For importing algorithm\n",
    "from sklearn.linear_model import LinearRegression\n",
    "# For splitting between training and testing\n",
    "from sklearn.model_selection import train_test_split\n",
    "# Importing accuracy score and mean_squared_error\n",
    "from sklearn.metrics import mean_squared_error, accuracy_score,mean_absolute_error\n",
    "# For plotting\n",
    "import matplotlib.pyplot as plt\n",
    "# For Saving model as pkl file\n",
    "import pickle"
   ]
  },
  {
   "cell_type": "markdown",
   "metadata": {},
   "source": [
    "Implementing Simple Linear Regression for salary dataset<br>\n",
    "This dataset contains the years of experience and Salary of employees<br>\n",
    "First column dosen't have any significance in data (Only used for Index)<br>\n",
    "We can remove that<br>\n",
    "To remove that we have two options"
   ]
  },
  {
   "cell_type": "markdown",
   "metadata": {},
   "source": [
    "Method 1-By giving usecols arguments and only using required columns"
   ]
  },
  {
   "cell_type": "code",
   "execution_count": 14,
   "metadata": {},
   "outputs": [
    {
     "name": "stdout",
     "output_type": "stream",
     "text": [
      "    YearsExperience    Salary\n",
      "0               1.2   39344.0\n",
      "1               1.4   46206.0\n",
      "2               1.6   37732.0\n",
      "3               2.1   43526.0\n",
      "4               2.3   39892.0\n",
      "5               3.0   56643.0\n",
      "6               3.1   60151.0\n",
      "7               3.3   54446.0\n",
      "8               3.3   64446.0\n",
      "9               3.8   57190.0\n",
      "10              4.0   63219.0\n",
      "11              4.1   55795.0\n",
      "12              4.1   56958.0\n",
      "13              4.2   57082.0\n",
      "14              4.6   61112.0\n",
      "15              5.0   67939.0\n",
      "16              5.2   66030.0\n",
      "17              5.4   83089.0\n",
      "18              6.0   81364.0\n",
      "19              6.1   93941.0\n",
      "20              6.9   91739.0\n",
      "21              7.2   98274.0\n",
      "22              8.0  101303.0\n",
      "23              8.3  113813.0\n",
      "24              8.8  109432.0\n",
      "25              9.1  105583.0\n",
      "26              9.6  116970.0\n",
      "27              9.7  112636.0\n",
      "28             10.4  122392.0\n",
      "29             10.6  121873.0\n"
     ]
    }
   ],
   "source": [
    "data=pd.read_csv(\"Salary_dataset.csv\",usecols=['YearsExperience','Salary'])\n",
    "print(data)"
   ]
  },
  {
   "cell_type": "markdown",
   "metadata": {},
   "source": [
    "Method 2-By using the index_col and setting it to 0 so that it doesn't take index"
   ]
  },
  {
   "cell_type": "code",
   "execution_count": 15,
   "metadata": {},
   "outputs": [
    {
     "name": "stdout",
     "output_type": "stream",
     "text": [
      "    YearsExperience    Salary\n",
      "0               1.2   39344.0\n",
      "1               1.4   46206.0\n",
      "2               1.6   37732.0\n",
      "3               2.1   43526.0\n",
      "4               2.3   39892.0\n",
      "5               3.0   56643.0\n",
      "6               3.1   60151.0\n",
      "7               3.3   54446.0\n",
      "8               3.3   64446.0\n",
      "9               3.8   57190.0\n",
      "10              4.0   63219.0\n",
      "11              4.1   55795.0\n",
      "12              4.1   56958.0\n",
      "13              4.2   57082.0\n",
      "14              4.6   61112.0\n",
      "15              5.0   67939.0\n",
      "16              5.2   66030.0\n",
      "17              5.4   83089.0\n",
      "18              6.0   81364.0\n",
      "19              6.1   93941.0\n",
      "20              6.9   91739.0\n",
      "21              7.2   98274.0\n",
      "22              8.0  101303.0\n",
      "23              8.3  113813.0\n",
      "24              8.8  109432.0\n",
      "25              9.1  105583.0\n",
      "26              9.6  116970.0\n",
      "27              9.7  112636.0\n",
      "28             10.4  122392.0\n",
      "29             10.6  121873.0\n"
     ]
    }
   ],
   "source": [
    "data=pd.read_csv(\"Salary_dataset.csv\",index_col=0)\n",
    "print(data)"
   ]
  },
  {
   "cell_type": "markdown",
   "metadata": {},
   "source": [
    "Preprocessing<br>\n",
    "Splitting between Input and Output"
   ]
  },
  {
   "cell_type": "code",
   "execution_count": 16,
   "metadata": {},
   "outputs": [
    {
     "name": "stdout",
     "output_type": "stream",
     "text": [
      "Input is:\n",
      " [[ 1.2]\n",
      " [ 1.4]\n",
      " [ 1.6]\n",
      " [ 2.1]\n",
      " [ 2.3]\n",
      " [ 3. ]\n",
      " [ 3.1]\n",
      " [ 3.3]\n",
      " [ 3.3]\n",
      " [ 3.8]\n",
      " [ 4. ]\n",
      " [ 4.1]\n",
      " [ 4.1]\n",
      " [ 4.2]\n",
      " [ 4.6]\n",
      " [ 5. ]\n",
      " [ 5.2]\n",
      " [ 5.4]\n",
      " [ 6. ]\n",
      " [ 6.1]\n",
      " [ 6.9]\n",
      " [ 7.2]\n",
      " [ 8. ]\n",
      " [ 8.3]\n",
      " [ 8.8]\n",
      " [ 9.1]\n",
      " [ 9.6]\n",
      " [ 9.7]\n",
      " [10.4]\n",
      " [10.6]]\n",
      "\n",
      "Output is:\n",
      " [[ 39344.]\n",
      " [ 46206.]\n",
      " [ 37732.]\n",
      " [ 43526.]\n",
      " [ 39892.]\n",
      " [ 56643.]\n",
      " [ 60151.]\n",
      " [ 54446.]\n",
      " [ 64446.]\n",
      " [ 57190.]\n",
      " [ 63219.]\n",
      " [ 55795.]\n",
      " [ 56958.]\n",
      " [ 57082.]\n",
      " [ 61112.]\n",
      " [ 67939.]\n",
      " [ 66030.]\n",
      " [ 83089.]\n",
      " [ 81364.]\n",
      " [ 93941.]\n",
      " [ 91739.]\n",
      " [ 98274.]\n",
      " [101303.]\n",
      " [113813.]\n",
      " [109432.]\n",
      " [105583.]\n",
      " [116970.]\n",
      " [112636.]\n",
      " [122392.]\n",
      " [121873.]]\n",
      "Shape of Input data is: [[ 1.2]\n",
      " [ 1.4]\n",
      " [ 1.6]\n",
      " [ 2.1]\n",
      " [ 2.3]\n",
      " [ 3. ]\n",
      " [ 3.1]\n",
      " [ 3.3]\n",
      " [ 3.3]\n",
      " [ 3.8]\n",
      " [ 4. ]\n",
      " [ 4.1]\n",
      " [ 4.1]\n",
      " [ 4.2]\n",
      " [ 4.6]\n",
      " [ 5. ]\n",
      " [ 5.2]\n",
      " [ 5.4]\n",
      " [ 6. ]\n",
      " [ 6.1]\n",
      " [ 6.9]\n",
      " [ 7.2]\n",
      " [ 8. ]\n",
      " [ 8.3]\n",
      " [ 8.8]\n",
      " [ 9.1]\n",
      " [ 9.6]\n",
      " [ 9.7]\n",
      " [10.4]\n",
      " [10.6]] Shape of Output data is: [[ 39344.]\n",
      " [ 46206.]\n",
      " [ 37732.]\n",
      " [ 43526.]\n",
      " [ 39892.]\n",
      " [ 56643.]\n",
      " [ 60151.]\n",
      " [ 54446.]\n",
      " [ 64446.]\n",
      " [ 57190.]\n",
      " [ 63219.]\n",
      " [ 55795.]\n",
      " [ 56958.]\n",
      " [ 57082.]\n",
      " [ 61112.]\n",
      " [ 67939.]\n",
      " [ 66030.]\n",
      " [ 83089.]\n",
      " [ 81364.]\n",
      " [ 93941.]\n",
      " [ 91739.]\n",
      " [ 98274.]\n",
      " [101303.]\n",
      " [113813.]\n",
      " [109432.]\n",
      " [105583.]\n",
      " [116970.]\n",
      " [112636.]\n",
      " [122392.]\n",
      " [121873.]]\n"
     ]
    }
   ],
   "source": [
    "X,Y=data['YearsExperience'].to_numpy().reshape(-1,1),data['Salary'].to_numpy().reshape(-1,1)\n",
    "print(\"Input is:\\n\",X)\n",
    "print(\"\\nOutput is:\\n\",Y)\n",
    "print(\"Shape of Input data is:\",X,\"Shape of Output data is:\",Y)"
   ]
  },
  {
   "cell_type": "markdown",
   "metadata": {},
   "source": [
    "Splitting into training and testing data<br>\n",
    "we can do this directly as dataset is small instead of using train test split"
   ]
  },
  {
   "cell_type": "code",
   "execution_count": 17,
   "metadata": {},
   "outputs": [
    {
     "name": "stdout",
     "output_type": "stream",
     "text": [
      "Training data is:\n",
      " [[1.2]\n",
      " [1.4]\n",
      " [1.6]\n",
      " [2.1]\n",
      " [2.3]\n",
      " [3. ]\n",
      " [3.1]\n",
      " [3.3]\n",
      " [3.3]\n",
      " [3.8]\n",
      " [4. ]\n",
      " [4.1]\n",
      " [4.1]\n",
      " [4.2]\n",
      " [4.6]\n",
      " [5. ]\n",
      " [5.2]\n",
      " [5.4]\n",
      " [6. ]\n",
      " [6.1]\n",
      " [6.9]\n",
      " [7.2]\n",
      " [8. ]\n",
      " [8.3]\n",
      " [8.8]]\n",
      "\n",
      "Testing data is:\n",
      " [[ 39344.]\n",
      " [ 46206.]\n",
      " [ 37732.]\n",
      " [ 43526.]\n",
      " [ 39892.]\n",
      " [ 56643.]\n",
      " [ 60151.]\n",
      " [ 54446.]\n",
      " [ 64446.]\n",
      " [ 57190.]\n",
      " [ 63219.]\n",
      " [ 55795.]\n",
      " [ 56958.]\n",
      " [ 57082.]\n",
      " [ 61112.]\n",
      " [ 67939.]\n",
      " [ 66030.]\n",
      " [ 83089.]\n",
      " [ 81364.]\n",
      " [ 93941.]\n",
      " [ 91739.]\n",
      " [ 98274.]\n",
      " [101303.]\n",
      " [113813.]\n",
      " [109432.]]\n",
      "Shape of Training data is: (25, 1) Shape of Testing data is: (25, 1)\n"
     ]
    }
   ],
   "source": [
    "x_train=X[:-5]\n",
    "x_test=X[-5:]\n",
    "y_train=Y[:-5]\n",
    "y_test=Y[-5:]\n",
    "print(\"Training data is:\\n\",x_train)\n",
    "print(\"\\nTesting data is:\\n\",y_train)\n",
    "print(\"Shape of Training data is:\",x_train.shape,\"Shape of Testing data is:\",y_train.shape)"
   ]
  },
  {
   "cell_type": "markdown",
   "metadata": {},
   "source": [
    "Choosing algorithm"
   ]
  },
  {
   "cell_type": "code",
   "execution_count": 18,
   "metadata": {},
   "outputs": [
    {
     "data": {
      "text/plain": [
       "LinearRegression()"
      ]
     },
     "execution_count": 18,
     "metadata": {},
     "output_type": "execute_result"
    }
   ],
   "source": [
    "reg=LinearRegression()\n",
    "# Training data\n",
    "reg.fit(x_train,y_train)"
   ]
  },
  {
   "cell_type": "markdown",
   "metadata": {},
   "source": [
    "Evaluating model"
   ]
  },
  {
   "cell_type": "code",
   "execution_count": 19,
   "metadata": {},
   "outputs": [
    {
     "name": "stdout",
     "output_type": "stream",
     "text": [
      "Training Accuracy score is: 92.98889340527403\n",
      "Predicted values are:\n",
      "\n",
      "[[113773.84320812]\n",
      " [118768.07936621]\n",
      " [119766.92659783]\n",
      " [126758.85721916]\n",
      " [128756.55168239]]\n",
      "Predicted value for 1.5 is:\n",
      " [[37861.45360513]]\n"
     ]
    }
   ],
   "source": [
    "print(\"Training Accuracy score is:\",reg.score(x_train,y_train)*100)\n",
    "# Checking predicted values\n",
    "predict=reg.predict(x_test)\n",
    "print(\"Predicted values are:\\n\")\n",
    "print(predict)\n",
    "# Checking predicted value for given value\n",
    "print(\"Predicted value for 1.5 is:\\n\",reg.predict([[1.5]]))"
   ]
  },
  {
   "cell_type": "markdown",
   "metadata": {},
   "source": [
    "print(accuracy_score(predict,y_test))-Doesn't work as accuracy score doesn't take array"
   ]
  },
  {
   "cell_type": "markdown",
   "metadata": {},
   "source": [
    "Checking for Error"
   ]
  },
  {
   "cell_type": "code",
   "execution_count": 20,
   "metadata": {},
   "outputs": [
    {
     "name": "stdout",
     "output_type": "stream",
     "text": [
      "Mean Squared error is: 37525168.34948919\n",
      "Mean Absolute error is: 5674.051614740992\n"
     ]
    }
   ],
   "source": [
    "print(\"Mean Squared error is:\",mean_squared_error(y_test,predict))\n",
    "print(\"Mean Absolute error is:\",mean_absolute_error(y_test,predict))"
   ]
  },
  {
   "cell_type": "markdown",
   "metadata": {},
   "source": [
    "Plotting<br>\n",
    "We can see the points are much away from the line<br>\n",
    "Cost function is very high<br>\n",
    "This is why absolute and mean squared error is so high"
   ]
  },
  {
   "cell_type": "code",
   "execution_count": 21,
   "metadata": {},
   "outputs": [
    {
     "data": {
      "image/png": "[encoded data removed]",
      "text/plain": [
       "<Figure size 432x288 with 1 Axes>"
      ]
     },
     "metadata": {
      "needs_background": "light"
     },
     "output_type": "display_data"
    }
   ],
   "source": [
    "plt.scatter(x_test,y_test,color=\"blue\")\n",
    "plt.plot(x_test,predict,color=\"red\")\n",
    "plt.title(\"Regression Plot of Years of Experience VS Salary\")\n",
    "plt.xlabel(\"Years of Experience\")\n",
    "plt.ylabel(\"Salary\")\n",
    "plt.legend(['Actual Values','Best Line or General formula'])\n",
    "plt.show()"
   ]
  },
  {
   "cell_type": "markdown",
   "metadata": {},
   "source": [
    "Saving model to disk"
   ]
  },
  {
   "cell_type": "code",
   "execution_count": 22,
   "metadata": {},
   "outputs": [],
   "source": [
    "pickle.dump(reg, open('model.pkl','wb'))\n",
    "print(\"Model Successfully saved to disk with extention .pkl(pickle file)\")"
   ]
  },
  {
   "cell_type": "markdown",
   "metadata": {},
   "source": [
    "Loading model to compare the results"
   ]
  },
  {
   "cell_type": "code",
   "execution_count": 23,
   "metadata": {},
   "outputs": [
    {
     "name": "stdout",
     "output_type": "stream",
     "text": [
      "Predicted value for 9 years of experience using saved model is: [[112774.9959765]]\n"
     ]
    }
   ],
   "source": [
    "model = pickle.load(open('model.pkl','rb'))\n",
    "print(\"Predicted value for 9 years of experience using saved model is:\",model.predict([[9]]))"
   ]
  }
 ],
 "metadata": {
  "kernelspec": {
   "display_name": "Python 3 (ipykernel)",
   "language": "python",
   "name": "python3"
  },
  "language_info": {
   "codemirror_mode": {
    "name": "ipython",
    "version": 3
   },
   "file_extension": ".py",
   "mimetype": "text/x-python",
   "name": "python",
   "nbconvert_exporter": "python",
   "pygments_lexer": "ipython3",
   "version": "3.9.12"
  }
 },
 "nbformat": 4,
 "nbformat_minor": 2
}
